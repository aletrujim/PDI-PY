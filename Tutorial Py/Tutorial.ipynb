{
 "cells": [
  {
   "cell_type": "code",
   "execution_count": null,
   "metadata": {
    "collapsed": true
   },
   "outputs": [],
   "source": [
    "\"\"\"Tutorial Python\"\"\"\n"
   ]
  },
  {
   "cell_type": "code",
   "execution_count": 1,
   "metadata": {},
   "outputs": [
    {
     "name": "stdout",
     "output_type": "stream",
     "text": [
      "2\n",
      "2.5\n"
     ]
    }
   ],
   "source": [
    "\"variable numerica\"\n",
    "num1 = int(2)\n",
    "print(num1)\n",
    "\n",
    "num2 = float(2.5)\n",
    "print(num2)"
   ]
  },
  {
   "cell_type": "code",
   "execution_count": 2,
   "metadata": {},
   "outputs": [
    {
     "name": "stdout",
     "output_type": "stream",
     "text": [
      "texto1\n",
      "texto2\n",
      "linea1\n",
      "linea2\n",
      "54\n"
     ]
    }
   ],
   "source": [
    "\"variable texto\"\n",
    "txt1 = \"texto1\"\n",
    "print(txt1)\n",
    "\n",
    "txt2= 'texto2'\n",
    "print(txt2)\n",
    "\n",
    "txt3=\"\"\"linea1\n",
    "linea2\"\"\"\n",
    "print(txt3)\n",
    "\n",
    "txt4 = str(54)\n",
    "print(txt4)"
   ]
  },
  {
   "cell_type": "code",
   "execution_count": 3,
   "metadata": {},
   "outputs": [
    {
     "name": "stdout",
     "output_type": "stream",
     "text": [
      "['dato1', 'dato2', 'dato3']\n",
      "dato1\n",
      "['dato1', 'dato2', 'dato4']\n",
      "['dato0', 'dato1', 'dato2', 'dato4']\n",
      "[1, 2, 3]\n",
      "['dato0', 'dato1', 'dato2', 'dato4', 1, 2, 3]\n",
      "['dato0', 'dato1', 'dato2', 'dato4', 1, 2]\n"
     ]
    }
   ],
   "source": [
    "\"listas\"\n",
    "lista = [\"dato1\", \"dato2\", \"dato3\"]\n",
    "print(lista)\n",
    "\n",
    "\"lista[i]: Devuelve el elemento que está en la posición i de la lista\"\n",
    "lista[0]\n",
    "print(lista[0])\n",
    "\n",
    "\"lista.pop(i): Devuelve el elemento en la posición i de una lista y luego lo borra\"\n",
    "lista.pop(2)\n",
    "\n",
    "\"lista.append(elemento): Añade elemento al final de la lista\"\n",
    "lista.append(\"dato4\")\n",
    "print(lista)\n",
    "\n",
    "\"lista.insert(i, elemento): Inserta elemento en la posición i\"\n",
    "lista.insert(0, \"dato0\")\n",
    "print(lista)\n",
    "\n",
    "\"lista.extend(lista2): Fusiona lista con lista2\"\n",
    "lista2 = [1,2,3]\n",
    "print(lista2)\n",
    "\n",
    "lista.extend(lista2)\n",
    "print(lista)\n",
    "\n",
    "\"lista.remove(elemento): Elimina la primera vez que aparece elemento\"\n",
    "lista.remove(3)\n",
    "print(lista)"
   ]
  },
  {
   "cell_type": "code",
   "execution_count": 4,
   "metadata": {},
   "outputs": [
    {
     "name": "stdout",
     "output_type": "stream",
     "text": [
      "{'Dato1': 'Valor1', 'Dato2': 'Valor2', 'Dato3': 3, 'Dato4': 4}\n",
      "Valor1\n",
      "{'Dato1': 'Valor1', 'Dato3': 3, 'Dato4': 4}\n",
      "True\n",
      "True\n",
      "False\n"
     ]
    }
   ],
   "source": [
    "\"diccionarios\"\n",
    "diccionario={'Dato1':\"Valor1\", 'Dato2':'Valor2', 'Dato3':3, 'Dato4':4}\n",
    "print(diccionario)\n",
    "\n",
    "\"diccionario.get('key'): Devuelve el valor que corresponde con la key introducida\"\n",
    "d1 = diccionario.get('Dato1')\n",
    "print(d1)\n",
    "\n",
    "\"diccionario.pop('key'): Devuelve el valor que corresponde con la key introducida, y luego borra la key y el valor\"\n",
    "diccionario.pop('Dato2')\n",
    "print(diccionario)\n",
    "\n",
    "\" 'key' in diccionario: Devuelve verdadero (True) o falso (False) si la key (no los valores) existe en el diccionario\"\n",
    "d3 = 'Dato3' in diccionario\n",
    "print(d3)\n",
    "\n",
    "\" “definicion” in diccionario.values(): Devuelve True o False si definición existe en el diccionario (no como key)\"\n",
    "d4 = 4 in diccionario.values()\n",
    "d5 = '4' in diccionario.values()\n",
    "print(d4)\n",
    "print(d5)"
   ]
  },
  {
   "cell_type": "code",
   "execution_count": 5,
   "metadata": {},
   "outputs": [
    {
     "name": "stdout",
     "output_type": "stream",
     "text": [
      "a < b\n"
     ]
    }
   ],
   "source": [
    "\"If\"\n",
    "a = 1\n",
    "b = 2\n",
    "\n",
    "if (a == b):\n",
    "    print(\"a = b\")\n",
    "elif (a < b):\n",
    "    print(\"a < b\")\n",
    "elif (a > b):\n",
    "    print(\"a > b\")\n",
    "else:\n",
    "    print (\"else\")"
   ]
  },
  {
   "cell_type": "code",
   "execution_count": 6,
   "metadata": {},
   "outputs": [
    {
     "name": "stdout",
     "output_type": "stream",
     "text": [
      "False\n",
      "False\n",
      "True\n"
     ]
    }
   ],
   "source": [
    "\"condicionales\"\n",
    "A = True\n",
    "B = False\n",
    "    \n",
    "print (not A)\n",
    "print (A and B)\n",
    "print(A or B)"
   ]
  },
  {
   "cell_type": "code",
   "execution_count": 7,
   "metadata": {},
   "outputs": [
    {
     "name": "stdout",
     "output_type": "stream",
     "text": [
      "Vuelta 1\n",
      "Vuelta 2\n",
      "Vuelta 3\n",
      "Vuelta 4\n"
     ]
    }
   ],
   "source": [
    "\"ciclo while\"\n",
    "i = 1\n",
    "while i < 5:\n",
    "    print(\"Vuelta \"+str(i))\n",
    "    i = i + 1"
   ]
  },
  {
   "cell_type": "code",
   "execution_count": 1,
   "metadata": {},
   "outputs": [
    {
     "name": "stdout",
     "output_type": "stream",
     "text": [
      "Vuelta 1\n",
      "Vuelta 2\n",
      "Vuelta 3\n",
      "Vuelta 4\n"
     ]
    }
   ],
   "source": [
    "\"ciclo for\"\n",
    "for i in range(1,5):\n",
    "    print(\"Vuelta \"+str(i))"
   ]
  }
 ],
 "metadata": {
  "kernelspec": {
   "display_name": "Python 3",
   "language": "python",
   "name": "python3"
  },
  "language_info": {
   "codemirror_mode": {
    "name": "ipython",
    "version": 3
   },
   "file_extension": ".py",
   "mimetype": "text/x-python",
   "name": "python",
   "nbconvert_exporter": "python",
   "pygments_lexer": "ipython3",
   "version": "3.6.3"
  }
 },
 "nbformat": 4,
 "nbformat_minor": 2
}
